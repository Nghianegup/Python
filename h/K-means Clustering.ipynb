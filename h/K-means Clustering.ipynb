{
 "cells": [
  {
   "cell_type": "code",
   "execution_count": 30,
   "metadata": {},
   "outputs": [],
   "source": [
    "from __future__ import print_function\n",
    "import numpy as np \n",
    "import matplotlib.pyplot as plt\n",
    "from scipy.spatial.distance import cdist\n",
    "np.random.seed(11)"
   ]
  },
  {
   "cell_type": "code",
   "execution_count": 31,
   "metadata": {},
   "outputs": [],
   "source": [
    "means = [[2,2],[8,3],[3,8]]\n",
    "cov = [[1,0],[0,1]]\n",
    "N = 500\n",
    "X0 = np.random.multivariate_normal(means[0],cov ,N)\n",
    "X1 = np.random.multivariate_normal(means[1],cov ,N)\n",
    "X2 = np.random.multivariate_normal(means[2],cov ,N)\n",
    "\n",
    "X = np.concatenate((X0,X1,X2), axis = 0)\n",
    "\n",
    "K = 3\n",
    "\n",
    "original_label = np.asarray([0]*N + [1]*N + [2]*N).T"
   ]
  },
  {
   "cell_type": "code",
   "execution_count": 34,
   "metadata": {},
   "outputs": [
    {
     "data": {
      "image/png": "[encoded data removed]",
      "text/plain": [
       "<Figure size 432x288 with 1 Axes>"
      ]
     },
     "metadata": {
      "needs_background": "light"
     },
     "output_type": "display_data"
    }
   ],
   "source": [
    "def kmeans_display(X, label,centers):\n",
    "    K = np.amax(label) + 1\n",
    "    A = centers[-1]\n",
    "    X0 = X[label == 0, :]\n",
    "    X1 = X[label == 1, :]\n",
    "    X2 = X[label == 2, :]\n",
    "    \n",
    "    plt.scatter(X0[:, 0], X0[:, 1], color= 'b')\n",
    "    plt.scatter(X1[:, 0], X1[:, 1], color ='r')\n",
    "    plt.scatter(X2[:, 0], X2[:, 1], color = 'g')\n",
    "    \n",
    "    plt.scatter(A[0,0],A[0,1], s = 99 , color = 'y')\n",
    "    plt.scatter(A[1,0],A[1,1],  s = 99, color = 'k')\n",
    "    plt.scatter(A[2,0],A[2,1], s = 99, color = 'r')\n",
    "    \n",
    "    plt.axis('equal')\n",
    "    plt.plot()\n",
    "    plt.show()\n",
    "    \n",
    "kmeans_display(X, original_label, centers)\n",
    "    "
   ]
  },
  {
   "cell_type": "code",
   "execution_count": 35,
   "metadata": {},
   "outputs": [],
   "source": [
    "def kmeans_init_centers(X,k):\n",
    "    return X[np.random.choice(X.shape[0], k, replace = False)]\n",
    "\n",
    "def kmeans_assign_labels(X, centers):\n",
    "    \n",
    "    D = cdist(X, centers)\n",
    "    \n",
    "    return np.argmin(D, axis = 1)\n",
    "\n",
    "def kmeans_update_centers(X, labels , K):\n",
    "    centers = np.zeros((K,X.shape[1]))\n",
    "    for k in range(K):\n",
    "        Xk = X[labels == k , :]\n",
    "        \n",
    "        centers[k, :] = np.mean(Xk, axis = 0)\n",
    "    return centers\n",
    "\n",
    "def has_converged (centers, new_centers):\n",
    "    return (set([tuple(a) for a in centers]) == set([tuple(a) for a in new_centers]))"
   ]
  },
  {
   "cell_type": "code",
   "execution_count": 36,
   "metadata": {},
   "outputs": [],
   "source": [
    "def kmeans(X, K):\n",
    "    centers = [kmeans_init_centers(X,K)]\n",
    "    labels = []\n",
    "    it = 0\n",
    "    while True:\n",
    "        labels.append(kmeans_assign_labels(X,centers[-1]))\n",
    "        new_centers =  kmeans_update_centers(X, labels[-1] , K) \n",
    "        if has_converged(centers[-1], new_centers):\n",
    "            break\n",
    "        centers.append(new_centers)\n",
    "        it += 1\n",
    "    return (centers,labels,it)\n",
    "        "
   ]
  },
  {
   "cell_type": "code",
   "execution_count": 37,
   "metadata": {},
   "outputs": [
    {
     "name": "stdout",
     "output_type": "stream",
     "text": [
      "Centers found by our algorithm:\n",
      "[[2.99001808 8.01881579]\n",
      " [1.97584605 2.0084089 ]\n",
      " [8.0410628  3.02094748]]\n"
     ]
    },
    {
     "data": {
      "image/png": "[encoded data removed]",
      "text/plain": [
       "<Figure size 432x288 with 1 Axes>"
      ]
     },
     "metadata": {
      "needs_background": "light"
     },
     "output_type": "display_data"
    }
   ],
   "source": [
    "(centers, labels, it) = kmeans(X, K)\n",
    "print('Centers found by our algorithm:')\n",
    "print(centers[-1])\n",
    "\n",
    "A = centers[-1]\n",
    "\n",
    "kmeans_display(X, labels[-1],centers)\n",
    "\n",
    "\n"
   ]
  },
  {
   "cell_type": "code",
   "execution_count": null,
   "metadata": {},
   "outputs": [],
   "source": []
  },
  {
   "cell_type": "code",
   "execution_count": null,
   "metadata": {},
   "outputs": [],
   "source": []
  },
  {
   "cell_type": "code",
   "execution_count": null,
   "metadata": {},
   "outputs": [],
   "source": []
  },
  {
   "cell_type": "code",
   "execution_count": null,
   "metadata": {},
   "outputs": [],
   "source": []
  },
  {
   "cell_type": "code",
   "execution_count": 11,
   "metadata": {},
   "outputs": [],
   "source": []
  },
  {
   "cell_type": "code",
   "execution_count": 12,
   "metadata": {},
   "outputs": [],
   "source": []
  },
  {
   "cell_type": "code",
   "execution_count": null,
   "metadata": {},
   "outputs": [],
   "source": []
  },
  {
   "cell_type": "code",
   "execution_count": null,
   "metadata": {},
   "outputs": [],
   "source": []
  },
  {
   "cell_type": "code",
   "execution_count": null,
   "metadata": {},
   "outputs": [],
   "source": []
  },
  {
   "cell_type": "code",
   "execution_count": null,
   "metadata": {},
   "outputs": [],
   "source": []
  },
  {
   "cell_type": "code",
   "execution_count": null,
   "metadata": {},
   "outputs": [],
   "source": []
  },
  {
   "cell_type": "code",
   "execution_count": null,
   "metadata": {},
   "outputs": [],
   "source": []
  },
  {
   "cell_type": "code",
   "execution_count": null,
   "metadata": {},
   "outputs": [],
   "source": []
  }
 ],
 "metadata": {
  "kernelspec": {
   "display_name": "Python 3",
   "language": "python",
   "name": "python3"
  },
  "language_info": {
   "codemirror_mode": {
    "name": "ipython",
    "version": 3
   },
   "file_extension": ".py",
   "mimetype": "text/x-python",
   "name": "python",
   "nbconvert_exporter": "python",
   "pygments_lexer": "ipython3",
   "version": "3.7.1"
  }
 },
 "nbformat": 4,
 "nbformat_minor": 2
}

{
 "cells": [
  {
   "cell_type": "markdown",
   "metadata": {},
   "source": [
    "[MathAIR'19.01 Lesson 2](https://www.youtube.com/watch?v=wD00HbmNmSM&t=820s)"
   ]
  },
  {
   "cell_type": "markdown",
   "metadata": {},
   "source": [
    "## Hàm số là gì ?"
   ]
  },
  {
   "cell_type": "markdown",
   "metadata": {},
   "source": [
    " - Hàm số là 1 phép biến đổi từ đầu vào x và đầu ra  y \n",
    " - Hàm được mô tả thông qua các phép tính trên biến và tham số.\n",
    " * Ví dụ f(x) = ax + b (afine function)"
   ]
  },
  {
   "cell_type": "markdown",
   "metadata": {},
   "source": [
    "## Biểu diễn hàm ?"
   ]
  },
  {
   "cell_type": "markdown",
   "metadata": {},
   "source": [
    "- Chúng ta phải biết cách biểu diễn hàm \n",
    "- Với mỗi tham số khác nhau ta sẽ có được các hàm số khác nhau tùy thuộc vào dữ liệu mà ta có là như thế nào. Bằng cách ta có thể thay tham số thì hàm số sẽ xoay hoặc tịnh tiến .\n"
   ]
  },
  {
   "cell_type": "markdown",
   "metadata": {},
   "source": [
    "## Không gian hàm ?"
   ]
  },
  {
   "cell_type": "markdown",
   "metadata": {},
   "source": [
    "- Là tập hợp các hàm số mà khi chúng ta thay đổi tham số để tạo ra các hàm số khác nhau"
   ]
  },
  {
   "cell_type": "code",
   "execution_count": null,
   "metadata": {},
   "outputs": [],
   "source": []
  },
  {
   "cell_type": "code",
   "execution_count": null,
   "metadata": {},
   "outputs": [],
   "source": [
    "\n"
   ]
  }
 ],
 "metadata": {
  "kernelspec": {
   "display_name": "Python 3",
   "language": "python",
   "name": "python3"
  },
  "language_info": {
   "codemirror_mode": {
    "name": "ipython",
    "version": 3
   },
   "file_extension": ".py",
   "mimetype": "text/x-python",
   "name": "python",
   "nbconvert_exporter": "python",
   "pygments_lexer": "ipython3",
   "version": "3.7.1"
  }
 },
 "nbformat": 4,
 "nbformat_minor": 2
}

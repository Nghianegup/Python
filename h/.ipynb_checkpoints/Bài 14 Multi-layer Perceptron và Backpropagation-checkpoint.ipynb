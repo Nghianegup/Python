{
 "cells": [
  {
   "cell_type": "code",
   "execution_count": 8,
   "metadata": {},
   "outputs": [],
   "source": [
    "from __future__ import division, print_function, unicode_literals\n",
    "import math\n",
    "import numpy as np \n",
    "import matplotlib.pyplot as plt"
   ]
  },
  {
   "cell_type": "code",
   "execution_count": 9,
   "metadata": {
    "scrolled": true
   },
   "outputs": [
    {
     "data": {
      "image/png": "[encoded data removed]",
      "text/plain": [
       "<Figure size 432x288 with 1 Axes>"
      ]
     },
     "metadata": {},
     "output_type": "display_data"
    },
    {
     "name": "stdout",
     "output_type": "stream",
     "text": [
      "[ 7.84731399  8.32402985  8.39554669  8.47169278  8.1497107   7.87065622\n",
      "  8.30283207  8.59166675  8.38492049  8.41774574  8.44922059  8.0991545\n",
      "  8.06156894  8.57125086  8.59255985  8.6345336   8.93888281  9.04603131\n",
      "  8.56413801  8.56318209  8.75324734  8.67382515  8.68516925  9.25191969\n",
      "  9.13333762  9.01651462  9.12654094  9.21050439  9.14878274  8.97126821\n",
      "  9.35175627  9.45248179  9.05621344  9.32116645  9.57514915  9.44286556\n",
      "  9.38380439  9.16654177  9.77556109  9.46623532  9.21897941 10.03342158\n",
      "  9.53394709  9.79789355  9.85178193  9.74239378 10.07728719  9.98341922\n",
      "  9.83068589  9.61305751  9.5939941  10.14640516 10.08606182 10.30640174\n",
      " 10.22846109 10.0265897  10.33071418  9.91745509  9.72480852 10.55506674\n",
      " 10.32026279 10.70636226 10.11008613 10.47647452 10.66517675 10.48939363\n",
      " 10.34274259 10.53609691 10.74265547 10.93252001 10.99598848 11.01928897\n",
      " 11.16403771 11.01811464 11.40555401 11.02270853 10.87364799 10.80530585\n",
      " 10.68856408 11.22125233 11.09317269 11.08382259 11.13859498 11.45428302\n",
      " 11.31164188 11.78256603 11.40025929 11.34421619 11.51951435 11.42754694\n",
      " 11.30442367 11.79107045 11.56812624 11.70958299 11.67260029 11.65848193\n",
      " 12.08555629 11.81742136 12.01202975 11.85055001]\n"
     ]
    }
   ],
   "source": [
    "N = 100 # number of points per class\n",
    "d0 = 2 # số chiều dimensionality\n",
    "C = 3 # number of classes\n",
    "X = np.zeros((d0, N*C)) # data matrix (each row = single example)\n",
    "y = np.zeros(N*C, dtype='uint8') # class labels\n",
    "\n",
    "for j in range(C):\n",
    "    ix = range(N*j,N*(j+1))\n",
    "    r = np.linspace(0.0,1,N) # bán kính radius\n",
    "    t = np.linspace(j*4,(j+1)*4,N)  + np.random.randn(N)*0.2 # theta\n",
    "    X[:,ix] = np.c_[r*np.sin(t),r*np.cos(t)].T\n",
    "    y[ix] = j\n",
    "# lets visualize the data:\n",
    "# plt.scatter(X[:N, 0], X[:N, 1], c=y[:N], s=40, cmap=plt.cm.Spectral)\n",
    "\n",
    "plt.plot(X[0, :N], X[1, :N], 'bs', markersize = 7);\n",
    "plt.plot(X[0, N:2*N], X[1, N:2*N], 'g^', markersize = 7);\n",
    "plt.plot(X[0, 2*N:], X[1, 2*N:], 'ro', markersize = 7);\n",
    "#plt.axis('on')\n",
    "plt.xlim([-1.5, 1.5])\n",
    "plt.ylim([-1.5, 1.5])\n",
    "cur_axes = plt.gca()\n",
    "cur_axes.axes.get_xaxis().set_ticks([])\n",
    "cur_axes.axes.get_yaxis().set_ticks([])\n",
    "\n",
    "plt.savefig('EX.png', bbox_inches='tight', dpi = 600)\n",
    "plt.show()\n",
    "print(t)\n"
   ]
  },
  {
   "cell_type": "code",
   "execution_count": 10,
   "metadata": {},
   "outputs": [],
   "source": [
    "def softmax(V):\n",
    "    e_V = np.exp(V - np.max(V, axis = 0, keepdims = True))\n",
    "    Z = e_V / e_V.sum(axis = 0)\n",
    "    return Z\n",
    "\n",
    "## One-hot coding\n",
    "from scipy import sparse \n",
    "def convert_labels(y, C = 3):\n",
    "    Y = sparse.coo_matrix((np.ones_like(y), \n",
    "        (y, np.arange(len(y)))), shape = (C, len(y))).toarray()\n",
    "    return Y \n",
    "\n",
    "# cost or loss function  \n",
    "def cost(Y, Yhat):    \n",
    "    return -np.sum(Y*np.log(Yhat))/Y.shape[1]"
   ]
  },
  {
   "cell_type": "code",
   "execution_count": 11,
   "metadata": {},
   "outputs": [
    {
     "name": "stdout",
     "output_type": "stream",
     "text": [
      "iter 0, loss: 1.098810\n",
      "iter 1000, loss: 0.115545\n",
      "iter 2000, loss: 0.054434\n",
      "iter 3000, loss: 0.038926\n",
      "iter 4000, loss: 0.032370\n",
      "iter 5000, loss: 0.028452\n",
      "iter 6000, loss: 0.025666\n",
      "iter 7000, loss: 0.023679\n",
      "iter 8000, loss: 0.022189\n",
      "iter 9000, loss: 0.021030\n"
     ]
    }
   ],
   "source": [
    "d0 = 2\n",
    "d1 = h = 200 # kích thước của các lớp ẩn (size of hidden layer)\n",
    "d2 = C = 3\n",
    "# khởi tạo các tham số ngẫu nhiên (initialize parameters randomely) \n",
    "W1 = 0.01*np.random.randn(d0, d1)\n",
    "b1 = np.zeros((d1, 1))\n",
    "W2 = 0.01*np.random.randn(d1, d2)\n",
    "b2 = np.zeros((d2, 1))\n",
    "\n",
    "# X = X.T # mỗi cột của X là 1 điểm dữ liệu\n",
    "Y = convert_labels(y, C)\n",
    "N = X.shape[1]\n",
    "eta = 1 # learning rate \n",
    "for i in range(10000):\n",
    "    ## Feedforward \n",
    "    Z1 = np.dot(W1.T, X) + b1 \n",
    "    A1 = np.maximum(Z1, 0) #relu\n",
    "    #A1 = (np.exp(Z1) -np.exp(-Z1))/(np.exp(Z1)+np.exp(-Z1))\n",
    "    Z2 = np.dot(W2.T, A1) + b2\n",
    "    # import pdb; pdb.set_trace()  # breakpoint 035ab9b5 //\n",
    "    Yhat = softmax(Z2)\n",
    "    \n",
    "    # tính toán mất mát : average cross-entropy loss\n",
    "    loss = cost(Y, Yhat)\n",
    "    \n",
    "    # print loss after each 1000 iterations\n",
    "    if i %1000 == 0: \n",
    "        print(\"iter %d, loss: %f\" %(i, loss))\n",
    "    \n",
    "    # backpropagation\n",
    "    E2 = (Yhat - Y )/N\n",
    "    dW2 = np.dot(A1, E2.T)\n",
    "    db2 = np.sum(E2, axis = 1, keepdims = True)\n",
    "    E1 = np.dot(W2, E2)\n",
    "    E1[Z1 <= 0] = 0 # gradient of ReLU \n",
    "    dW1 = np.dot(X, E1.T)\n",
    "    db1 = np.sum(E1, axis = 1, keepdims = True)\n",
    "    \n",
    "    # Gradient Descent update \n",
    "    # import pdb; pdb.set_trace()  # breakpoint 47741f63 //\n",
    "    W1 += -eta*dW1 \n",
    "    b1 += -eta*db1 \n",
    "    W2 += -eta*dW2\n",
    "    b2 += -eta*db2 "
   ]
  },
  {
   "cell_type": "code",
   "execution_count": 12,
   "metadata": {
    "scrolled": true
   },
   "outputs": [
    {
     "name": "stdout",
     "output_type": "stream",
     "text": [
      "training accuracy: 99.33 %\n"
     ]
    }
   ],
   "source": [
    "Z1 = np.dot(W1.T, X) + b1 \n",
    "A1 = np.maximum(Z1, 0)\n",
    "Z2 = np.dot(W2.T, A1) + b2\n",
    "predicted_class = np.argmax(Z2, axis=0)\n",
    "acc = (100*np.mean(predicted_class == y))\n",
    "print('training accuracy: %.2f %%' % acc)"
   ]
  },
  {
   "cell_type": "code",
   "execution_count": 13,
   "metadata": {},
   "outputs": [
    {
     "name": "stdout",
     "output_type": "stream",
     "text": [
      "(1, 14400)\n",
      "100\n"
     ]
    },
    {
     "data": {
      "image/png": "[encoded data removed]",
      "text/plain": [
       "<Figure size 432x288 with 1 Axes>"
      ]
     },
     "metadata": {},
     "output_type": "display_data"
    }
   ],
   "source": [
    "xm = np.arange(-1.5, 1.5, 0.025)\n",
    "xlen = len(xm)\n",
    "ym = np.arange(-1.5, 1.5, 0.025)\n",
    "ylen = len(ym)\n",
    "xx, yy = np.meshgrid(xm, ym)\n",
    "                  \n",
    "print(np.ones((1, xx.size)).shape)\n",
    "xx1 = xx.ravel().reshape(1, xx.size)\n",
    "yy1 = yy.ravel().reshape(1, yy.size)\n",
    "\n",
    "X0 = np.vstack((xx1, yy1))\n",
    "\n",
    "# print(X.shape)\n",
    "\n",
    "Z1 = np.dot(W1.T, X0) + b1 \n",
    "A1 = np.maximum(Z1, 0)\n",
    "Z2 = np.dot(W2.T, A1) + b2\n",
    "# predicted class \n",
    "Z = np.argmax(Z2, axis=0)\n",
    "\n",
    "Z = Z.reshape(xx.shape)\n",
    "CS = plt.contourf(xx, yy, Z, 200, cmap='jet', alpha = .1)\n",
    "\n",
    "\n",
    "# X = X.T\n",
    "N = 100\n",
    "print(N)\n",
    "\n",
    "\n",
    "plt.plot(X[0, :N], X[1, :N], 'bs', markersize = 7);\n",
    "plt.plot(X[0, N:2*N], X[1, N:2*N], 'g^', markersize = 7);\n",
    "plt.plot(X[0, 2*N:], X[1, 2*N:], 'ro', markersize = 7);\n",
    "#plt.axis('off')\n",
    "plt.xlim([-1.5, 1.5])\n",
    "plt.ylim([-1.5, 1.5])\n",
    "cur_axes = plt.gca()\n",
    "cur_axes.axes.get_xaxis().set_ticks([])\n",
    "cur_axes.axes.get_yaxis().set_ticks([])\n",
    "\n",
    "\n",
    "plt.xlim(-1.5, 1.5)\n",
    "plt.ylim(-1.5, 1.5)\n",
    "plt.xticks(())\n",
    "plt.yticks(())\n",
    "plt.title('#hidden units = %d, accuracy = %.2f %%'%(d1, acc) )\n",
    "#plt.axis('equal')\n",
    "fn = 'ex_res'+ str(d1) + '.png'\n",
    "plt.savefig(fn, bbox_inches='tight', dpi = 600)\n",
    "plt.show() "
   ]
  },
  {
   "cell_type": "code",
   "execution_count": 14,
   "metadata": {},
   "outputs": [],
   "source": [
    "from __future__ import division,print_function,unicode_literals\n",
    "import math\n",
    "import numpy as np\n",
    "import matplotlib.pyplot as plt"
   ]
  },
  {
   "cell_type": "code",
   "execution_count": 15,
   "metadata": {},
   "outputs": [
    {
     "data": {
      "image/png": "[encoded data removed]",
      "text/plain": [
       "<Figure size 432x288 with 1 Axes>"
      ]
     },
     "metadata": {
      "needs_background": "light"
     },
     "output_type": "display_data"
    }
   ],
   "source": [
    "N = 100\n",
    "d0 = 2\n",
    "C = 3 \n",
    "X = np.zeros((d0,N*C))\n",
    "y = np.zeros((N*C, ))\n",
    "\n",
    "for j in range(C):\n",
    "    ix =range(N*j,N*(j+1))\n",
    "    r = np.linspace(0.0,1,N)\n",
    "    t = np.linspace(j*4,(j+1)*4,N) + np.random.randn(N)*0.2\n",
    "    X[:,ix] = np.c_[r*np.sin(t),r*np.cos(t)].T\n",
    "    y[ix] = j\n",
    "\n",
    "plt.plot(X[0,:N],X[1,:N], 'bs', markersize = 7)\n",
    "plt.plot(X[0,N:2*N],X[1,N:2*N],'g^',markersize = 7)\n",
    "plt.plot(X[0,2*N:],X[1,2*N:],'ro', markersize = 7)\n",
    "\n",
    "plt.xlim([-1.5,1.5])\n",
    "plt.ylim([-1.5,1.5])\n",
    "plt.show(-1.5,1.5)"
   ]
  },
  {
   "cell_type": "code",
   "execution_count": 16,
   "metadata": {},
   "outputs": [],
   "source": [
    "def softmax(V):\n",
    "    e_V = np.exp(V - np.max(V, axis = 0 , keepdims = True ))\n",
    "    Z = e_V /e_V.sum(axis = 0)\n",
    "    return Z\n",
    "from scipy import sparse\n",
    "def convert_labels(y , C = 3):\n",
    "    y = sparse.coo_matrix((np.ones_like(y),(y,np.arange(len(y)))), shape = (C, len(y))).toarray()\n",
    "    return Y\n",
    "def cost(Y, Yhat):\n",
    "    return -np.sum(Y*np.log(Yhat))/Y.shape[1]\n"
   ]
  },
  {
   "cell_type": "code",
   "execution_count": 17,
   "metadata": {},
   "outputs": [
    {
     "name": "stdout",
     "output_type": "stream",
     "text": [
      "iter 0, loss: 1.098294\n",
      "iter 1000, loss: 0.113646\n",
      "iter 2000, loss: 0.050816\n",
      "iter 3000, loss: 0.036899\n",
      "iter 4000, loss: 0.030654\n",
      "iter 5000, loss: 0.027043\n",
      "iter 6000, loss: 0.024663\n",
      "iter 7000, loss: 0.022968\n",
      "iter 8000, loss: 0.021675\n",
      "iter 9000, loss: 0.020663\n"
     ]
    }
   ],
   "source": [
    "d0 = 2\n",
    "d1 = h = 200 # kích thước của các lớp ẩn (size of hidden layer)\n",
    "d2 = C = 3\n",
    "# khởi tạo các tham số ngẫu nhiên (initialize parameters randomely) \n",
    "W1 = 0.01*np.random.randn(d0, d1)\n",
    "b1 = np.zeros((d1, 1))\n",
    "W2 = 0.01*np.random.randn(d1, d2)\n",
    "b2 = np.zeros((d2, 1))\n",
    "\n",
    "# X = X.T # mỗi cột của X là 1 điểm dữ liệu\n",
    "Y = convert_labels(y, C)\n",
    "N = X.shape[1]\n",
    "eta = 1 # learning rate \n",
    "for i in range(10000):\n",
    "    ## Feedforward \n",
    "    Z1 = np.dot(W1.T, X) + b1 \n",
    "    A1 = np.maximum(Z1, 0)\n",
    "    Z2 = np.dot(W2.T, A1) + b2\n",
    "    # import pdb; pdb.set_trace()  # breakpoint 035ab9b5 //\n",
    "    Yhat = softmax(Z2)\n",
    "    \n",
    "    # tính toán mất mát : average cross-entropy loss\n",
    "    loss = cost(Y, Yhat)\n",
    "    \n",
    "    # print loss after each 1000 iterations\n",
    "    if i %1000 == 0: \n",
    "        print(\"iter %d, loss: %f\" %(i, loss))\n",
    "    \n",
    "    # backpropagation\n",
    "    E2 = (Yhat - Y )/N\n",
    "    dW2 = np.dot(A1, E2.T)\n",
    "    db2 = np.sum(E2, axis = 1, keepdims = True)\n",
    "    E1 = np.dot(W2, E2)\n",
    "    E1[Z1 <= 0] = 0 # gradient of ReLU \n",
    "    dW1 = np.dot(X, E1.T)\n",
    "    db1 = np.sum(E1, axis = 1, keepdims = True)\n",
    "    \n",
    "    # Gradient Descent update \n",
    "    # import pdb; pdb.set_trace()  # breakpoint 47741f63 //\n",
    "    W1 += -eta*dW1 \n",
    "    b1 += -eta*db1 \n",
    "    W2 += -eta*dW2\n",
    "    b2 += -eta*db2 \n"
   ]
  },
  {
   "cell_type": "code",
   "execution_count": 18,
   "metadata": {},
   "outputs": [
    {
     "name": "stdout",
     "output_type": "stream",
     "text": [
      "training aaccuracy: 99.33%\n"
     ]
    }
   ],
   "source": [
    "Z1 = np.dot(W1.T, X) + b1\n",
    "A1 = np.maximum(Z1 , 0)\n",
    "Z2 = np.dot(W2.T, A1) + b2\n",
    "predicted_class = np.argmax(Z2, axis = 0 )\n",
    "acc = (100*np.mean(predicted_class == y))\n",
    "print(\"training aaccuracy: %.2f%%\" %acc)"
   ]
  },
  {
   "cell_type": "code",
   "execution_count": 19,
   "metadata": {},
   "outputs": [
    {
     "name": "stdout",
     "output_type": "stream",
     "text": [
      "(1, 14400)\n",
      "100\n"
     ]
    },
    {
     "data": {
      "image/png": "[encoded data removed]",
      "text/plain": [
       "<Figure size 432x288 with 1 Axes>"
      ]
     },
     "metadata": {},
     "output_type": "display_data"
    }
   ],
   "source": [
    "xm = np.arange(-1.5,1.5,0.025)\n",
    "xlen = len(xm)\n",
    "ym = np.arange(-1.5,1.5,0.025)\n",
    "ylen = len(ym)\n",
    "xx,yy = np.meshgrid(xm ,ym )\n",
    "\n",
    "print(np.ones((1,xx.size)).shape)\n",
    "xx1 = xx.ravel().reshape(1,xx.size) \n",
    "yy1 = yy.ravel().reshape(1,yy.size)\n",
    "X0 = np.vstack((xx1,yy1))\n",
    "\n",
    "Z1 = np.dot(W1.T,X0)+ b1\n",
    "A1 = np.maximum(Z1, 0)\n",
    "Z2 = np.dot(W2.T,A1) + b2\n",
    "Z = np.argmax(Z2, axis = 0)\n",
    "\n",
    "Z = Z.reshape(xx.shape)\n",
    "Cs = plt.contourf(xx ,yy ,Z , 200, cmap = 'jet', alpha = .1)\n",
    "N =100 \n",
    "print(N)\n",
    "\n",
    "plt.plot(X[0,:N],X[1,:N],'bs', markersize = 7)\n",
    "plt.plot(X[0,N:2*N],X[1,N:2*N], 'go', markersize = 7)\n",
    "plt.plot(X[0,2*N:],X[1,2*N:],'rs' , markersize = 7)\n",
    "\n",
    "plt.xlim(-1.5,1.5)\n",
    "plt.ylim(-1.5,1.5)\n",
    "plt.xticks(())\n",
    "plt.yticks(())\n",
    "\n",
    "plt.title(\"#hidden units = %d, accuracy = %.2f %% \"%(d1, acc))\n",
    "plt.show()"
   ]
  },
  {
   "cell_type": "code",
   "execution_count": null,
   "metadata": {},
   "outputs": [],
   "source": []
  }
 ],
 "metadata": {
  "kernelspec": {
   "display_name": "Python 3",
   "language": "python",
   "name": "python3"
  },
  "language_info": {
   "codemirror_mode": {
    "name": "ipython",
    "version": 3
   },
   "file_extension": ".py",
   "mimetype": "text/x-python",
   "name": "python",
   "nbconvert_exporter": "python",
   "pygments_lexer": "ipython3",
   "version": "3.7.3"
  }
 },
 "nbformat": 4,
 "nbformat_minor": 2
}

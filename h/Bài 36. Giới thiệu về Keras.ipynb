{
 "cells": [
  {
   "cell_type": "markdown",
   "metadata": {},
   "source": [
    "### Keras với linear regression"
   ]
  },
  {
   "cell_type": "code",
   "execution_count": null,
   "metadata": {},
   "outputs": [],
   "source": [
    "import numpy as np \n",
    "from keras import optimizers\n",
    "from keras.models import Sequential\n",
    "from keras.layers.core import Dense, Activation"
   ]
  },
  {
   "cell_type": "code",
   "execution_count": null,
   "metadata": {},
   "outputs": [],
   "source": [
    "X = np.random.rand(100,2)\n",
    "y = 2*X[:, 0] + 3 *X[:,1] + 4 + .2*np.random.randn(100)\n",
    "\n",
    "model = Sequential([Dense(1, input_shape = (2,),activation = 'linear')])\n",
    "\n",
    "sgd = optimizers.SGD(lr = 0.1)\n",
    "model.compile(loss = 'mse',optimizer = sgd)\n",
    "\n",
    "model.fit(X,y, epochs = 100, batch_size = 2)"
   ]
  },
  {
   "cell_type": "code",
   "execution_count": null,
   "metadata": {},
   "outputs": [],
   "source": [
    "model.get_weights()\n"
   ]
  },
  {
   "cell_type": "markdown",
   "metadata": {},
   "source": [
    "### Keras với logistic regression"
   ]
  },
  {
   "cell_type": "code",
   "execution_count": null,
   "metadata": {},
   "outputs": [],
   "source": [
    "import numpy as np \n",
    "from keras.models import Sequential\n",
    "from keras.layers.core import Dense, Activation\n",
    "from keras import losses\n",
    "from keras import optimizers\n",
    "\n",
    "# 1. Prepare data \n",
    "X = np.array([0.50, 0.75, 1.00, 1.25, 1.50, 1.75, 1.75, 2.00, 2.25, 2.50, \n",
    "              2.75, 3.00, 3.25, 3.50, 4.00, 4.25, 4.50, 4.75, 5.00, 5.50])\n",
    "y = np.array([0, 0, 0, 0, 0, 0, 1, 0, 1, 0, 1, 0, 1, 0, 1, 1, 1, 1, 1, 1])\n",
    "\n",
    "# 2. Build model \n",
    "model = Sequential()\n",
    "model.add(Dense(1, input_shape=(1,)))\n",
    "model.add(Activation('sigmoid'))\n",
    "\n",
    "# 3. gradient descent optimizer and loss function \n",
    "sgd = optimizers.SGD(lr=0.1)\n",
    "model.compile(loss=losses.binary_crossentropy, optimizer=sgd)\n",
    "\n",
    "# 4. Train the model \n",
    "model.fit(X, y, epochs=3000, batch_size=1) "
   ]
  },
  {
   "cell_type": "code",
   "execution_count": null,
   "metadata": {},
   "outputs": [],
   "source": [
    "model.get_weights()"
   ]
  },
  {
   "cell_type": "markdown",
   "metadata": {},
   "source": [
    "### Keras cho multi-layer perceptron"
   ]
  },
  {
   "cell_type": "code",
   "execution_count": null,
   "metadata": {},
   "outputs": [],
   "source": [
    "from __future__ import print_function\n",
    "from keras.datasets import fashion_mnist\n",
    "\n",
    "(x_train, y_train), (x_test , y_test) = fashion_mnist.load_data()\n",
    "print('x_train shape:\\t', x_train.shape)\n",
    "print('x_test shape:\\t', x_test.shape)\n",
    "print('y_train shape:\\t', y_train.shape)\n",
    "print('x_train shape:\\t', y_test.shape)\n",
    "\n",
    "\n"
   ]
  },
  {
   "cell_type": "code",
   "execution_count": null,
   "metadata": {},
   "outputs": [],
   "source": [
    "x_train = x_train/255.\n",
    "x_test = x_test/255. \n",
    "num_classes = 10 \n",
    "# convert class vectors to binary class matrices\n",
    "y_train = keras.utils.to_categorical(y_train, num_classes)\n",
    "y_test = keras.utils.to_categorical(y_test, num_classes)"
   ]
  },
  {
   "cell_type": "code",
   "execution_count": null,
   "metadata": {},
   "outputs": [],
   "source": [
    "from keras.layers import Dense, Flatten\n",
    "from keras.models import Sequential\n",
    "from keras import metrics\n",
    "import keras as keras\n",
    "# 2. buid model \n",
    "model = Sequential()\n",
    "model.add(Flatten(input_shape=(28, 28)))\n",
    "model.add(Dense(128, activation='relu'))\n",
    "model.add(Dense(256, activation='relu'))\n",
    "model.add(Dense(512, activation='relu'))\n",
    "model.add(Dense(num_classes, activation='softmax'))\n",
    "\n",
    "# 3. loss, metrics \n",
    "model.compile(loss=keras.losses.categorical_crossentropy,\n",
    "              optimizer=keras.optimizers.SGD(lr=0.1),\n",
    "              metrics=['accuracy'])"
   ]
  },
  {
   "cell_type": "code",
   "execution_count": null,
   "metadata": {},
   "outputs": [],
   "source": [
    "model.fit(x_train, y_train, batch_size=128, epochs = 20)\n"
   ]
  },
  {
   "cell_type": "code",
   "execution_count": null,
   "metadata": {},
   "outputs": [],
   "source": [
    "score = model.evaluate(x_test,y_test,verbose = 0)\n",
    "print('test  loss: %.4f' %score[0])\n",
    "print('Test accuracy %.4f' %score[1])"
   ]
  },
  {
   "cell_type": "code",
   "execution_count": null,
   "metadata": {},
   "outputs": [],
   "source": [
    "from keras.datasets import mnist \n",
    "from keras.models import Model \n",
    "from keras.layers import Input, Dense \n",
    "from keras.utils import np_utils \n",
    "import numpy as np\n",
    "\n",
    "num_train = 60000\n",
    "num_test = 10000\n",
    "\n",
    "height, width, depth = 28, 28, 1 # MNIST images are 28x28\n",
    "num_classes = 10 # there are 10 classes (1 per digit)\n",
    "\n",
    "(X_train, y_train), (X_test, y_test) = mnist.load_data()\n",
    "\n",
    "X_train = X_train.reshape(num_train, height * width)\n",
    "X_test = X_test.reshape(num_test, height * width)\n",
    "X_train = X_train.astype('float32') \n",
    "X_test = X_test.astype('float32')\n",
    "\n",
    "X_train /= 255 # Normalise data to [0, 1] range\n",
    "X_test /= 255 # Normalise data to [0, 1] range\n",
    "\n",
    "Y_train = np_utils.to_categorical(y_train, num_classes) # One-hot encode the labels\n",
    "Y_test = np_utils.to_categorical(y_test, num_classes) # One-hot encode the labels\n",
    "\n",
    "input_img = Input(shape=(height * width,))\n",
    "\n",
    "x = Dense(height * width, activation='relu')(input_img)\n",
    "\n",
    "encoded = Dense(height * width//2, activation='relu')(x)\n",
    "encoded = Dense(height * width//8, activation='relu')(encoded)\n",
    "\n",
    "y = Dense(height * width//256, activation='relu')(x)\n",
    "\n",
    "decoded = Dense(height * width//8, activation='relu')(y)\n",
    "decoded = Dense(height * width//2, activation='relu')(decoded)\n",
    "\n",
    "z = Dense(height * width, activation='sigmoid')(decoded)\n",
    "model = Model(input_img, z)\n",
    "\n",
    "model.compile(optimizer='adadelta', loss='mse') # reporting the accuracy\n",
    "\n",
    "model.fit(X_train, X_train,\n",
    "      epochs=10,\n",
    "      batch_size=128,\n",
    "      shuffle=True,\n",
    "      validation_data=(X_test, X_test))\n",
    "\n",
    "mid = Model(input_img, y)\n",
    "reduced_representation =mid.predict(X_test)\n",
    "\n",
    "out = Dense(num_classes, activation='softmax')(y)\n",
    "reduced = Model(input_img, out)\n",
    "reduced.compile(loss='categorical_crossentropy',\n",
    "          optimizer='adam', \n",
    "          metrics=['accuracy']) \n",
    "\n",
    "reduced.fit(X_train, Y_train,\n",
    "      epochs=10,\n",
    "      batch_size=128,\n",
    "      shuffle=True,\n",
    "      validation_data=(X_test, Y_test))\n",
    "\n",
    "\n",
    "scores = reduced.evaluate(X_test, Y_test, verbose=1) \n",
    "print(\"Accuracy: \", scores[1])"
   ]
  },
  {
   "cell_type": "code",
   "execution_count": null,
   "metadata": {},
   "outputs": [],
   "source": [
    "from keras.datasets import mnist\n",
    "from keras.models import Model\n",
    "from keras.layers import Input ,Dense\n",
    "from keras.utils import np_utils\n",
    "import numpy as np\n",
    "\n",
    "num_train = 60000\n",
    "num_test = 10000\n",
    "\n",
    "height ,width,depth = 28, 28 ,1\n",
    "num_classes = 10\n",
    "\n",
    "(X_train, y_train), (X_test , y_test) = mnist.load_data()\n",
    "X_train = X_train.reshape(num_train, height * width)\n",
    "X_test = X_test.reshape(num_test, height *width)\n",
    "X_train = X_train.astype('float32')\n",
    "X_test = X_test.astype('float32')\n",
    "\n",
    "X_train /= 255\n",
    "X_test /= 255\n",
    "\n",
    "y_train = np_utils.to_categorical(y_train, num_classes)\n",
    "y_test = np_utils.to_categorical(y_test, num_classes)\n",
    "\n",
    "input_img = Input(shape=(height * width,))\n",
    "\n",
    "x = Dense(height * width, activation='relu')(input_img)\n",
    "\n",
    "encoded = Dense(height * width//2, activation='relu')(x)\n",
    "encoded = Dense(height * width//8, activation='relu')(encoded)\n",
    "\n",
    "y = Dense(height * width//256, activation='relu')(x)\n",
    "\n",
    "decoded = Dense(height * width//8, activation='relu')(y)\n",
    "decoded = Dense(height * width//2, activation='relu')(decoded)\n",
    "\n",
    "z = Dense(height * width, activation='sigmoid')(decoded)\n",
    "model = Model(input_img, z)\n",
    "\n",
    "model.compile(optimizer='adadelta', loss='mse') # reporting the accuracy\n",
    "\n",
    "model.fit(X_train, X_train,\n",
    "      epochs=10,\n",
    "      batch_size=128,\n",
    "      shuffle=True,\n",
    "      validation_data=(X_test, X_test))\n",
    "\n"
   ]
  },
  {
   "cell_type": "code",
   "execution_count": null,
   "metadata": {},
   "outputs": [],
   "source": []
  },
  {
   "cell_type": "code",
   "execution_count": null,
   "metadata": {},
   "outputs": [],
   "source": []
  }
 ],
 "metadata": {
  "kernelspec": {
   "display_name": "Python 3",
   "language": "python",
   "name": "python3"
  },
  "language_info": {
   "codemirror_mode": {
    "name": "ipython",
    "version": 3
   },
   "file_extension": ".py",
   "mimetype": "text/x-python",
   "name": "python",
   "nbconvert_exporter": "python",
   "pygments_lexer": "ipython3",
   "version": "3.7.3"
  }
 },
 "nbformat": 4,
 "nbformat_minor": 2
}

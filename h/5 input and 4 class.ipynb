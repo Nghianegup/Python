{
 "cells": [
  {
   "cell_type": "code",
   "execution_count": 45,
   "metadata": {},
   "outputs": [],
   "source": [
    "import numpy as np \n",
    "import random\n",
    "import matplotlib.pyplot as plt \n",
    "from scipy import sparse"
   ]
  },
  {
   "cell_type": "code",
   "execution_count": 46,
   "metadata": {},
   "outputs": [],
   "source": [
    "N = 5 \n",
    "d = 2 \n",
    "C = 4 \n",
    "X = np.random.randn(d, N)\n",
    "y = np.random.randint(0,4,(N))"
   ]
  },
  {
   "cell_type": "code",
   "execution_count": 47,
   "metadata": {},
   "outputs": [],
   "source": [
    "# softmax\n",
    "def softmax (Z):\n",
    "    e_Z = np.exp(Z)\n",
    "    A = e_Z/e_Z.sum(axis = 0)\n",
    "    return A"
   ]
  },
  {
   "cell_type": "code",
   "execution_count": 48,
   "metadata": {},
   "outputs": [],
   "source": [
    "def softmax_stable(Z):\n",
    "    e_Z = np.exp(Z)\n",
    "    b = np.max(Z)\n",
    "    A = (e_Z - b)/sum(e_Z - b)\n",
    "    return A"
   ]
  },
  {
   "cell_type": "code",
   "execution_count": 49,
   "metadata": {},
   "outputs": [
    {
     "name": "stdout",
     "output_type": "stream",
     "text": [
      "[[0 0 0 0 0]\n",
      " [1 0 0 0 1]\n",
      " [0 1 0 1 0]\n",
      " [0 0 1 0 0]]\n"
     ]
    }
   ],
   "source": [
    "def convert_labels(y, C = C):\n",
    "    Y = sparse.coo_matrix((np.ones_like(y),(y,np.arange(len(y)))),shape = (C, len(y))).toarray()\n",
    "    return Y\n",
    "Y = convert_labels(y,C)\n",
    "print(Y)\n",
    "                          "
   ]
  },
  {
   "cell_type": "code",
   "execution_count": 50,
   "metadata": {},
   "outputs": [
    {
     "name": "stdout",
     "output_type": "stream",
     "text": [
      "1.7434350711072215e-09\n"
     ]
    }
   ],
   "source": [
    "def cost(X, Y, W):\n",
    "    A = softmax(W.T.dot(X))\n",
    "    return -np.sum(Y*np.log(A))\n",
    "W_init = np.random.randn(d,C)\n",
    "\n",
    "def grad(X, Y, W):\n",
    "    A = softmax(W.T.dot(X))\n",
    "    E = A - Y \n",
    "    return X.dot(E.T)\n",
    "\n",
    "def numerical_grad(X, Y, W, cost):\n",
    "    eps = 1e-6\n",
    "    g = np.ones_like(W)\n",
    "    for i in range (W.shape[0]):\n",
    "        for j in range(W.shape[1]):\n",
    "            W_p = W.copy()\n",
    "            W_n = W.copy()\n",
    "            W_p[i,j] += eps\n",
    "            W_n[i,j] -= eps\n",
    "            g[i,j] = (cost(X ,Y ,W_p) - cost(X , Y, W_n))/(2*eps)\n",
    "    return g\n",
    "g1 =  grad(X, Y, W_init)\n",
    "g2 = numerical_grad(X, Y, W_init, cost)\n",
    "\n",
    "print(np.linalg.norm(g1 -g2))"
   ]
  },
  {
   "cell_type": "code",
   "execution_count": 52,
   "metadata": {},
   "outputs": [],
   "source": [
    "def softmax_regression(X, y , W_init , eta, tol = 1e-4 , max_count = 10000):\n",
    "    W = [W_init]\n",
    "    C = W_init.shape[1]\n",
    "    Y = convert_labels(y,C)\n",
    "    it = 0 \n",
    "    N = X.shape[1]\n",
    "    d = X.shape[0]\n",
    "    \n",
    "    count = 0 \n",
    "    check_w_after = 20 \n",
    "    \n",
    "    while count < max_count :\n",
    "        mix_id = np.random.permutation(N)\n",
    "        \n",
    "        for i in  mix_id:\n",
    "            xi = X[:, i ].reshape(d,1)\n",
    "            yi = Y[: , i].reshape(C, 1)\n",
    "            ai = softmax(np.dot(W[-1].T,xi))\n",
    "            W_new = W[-1] + eta*xi.dot((yi - ai).T)\n",
    "            \n",
    "            count += 1 \n",
    "            # tiêu chí dừng\n",
    "            if count%check_w_after == 0 :\n",
    "                if np.linalg.norm(W_new - W[-check_w_after]) < tol:\n",
    "                    return W\n",
    "            W.append(W_new)\n",
    "    return W\n",
    "\n",
    "eta = 0.05\n",
    "d = X.shape[0]\n",
    "W_init = np.random.randn(d, C)\n",
    "\n",
    "W = softmax_regression(X,y,W_init, eta)\n"
   ]
  },
  {
   "cell_type": "code",
   "execution_count": 53,
   "metadata": {},
   "outputs": [],
   "source": [
    "def pred(W, X):\n",
    "    A = softmax_stable(W[-1].T.dot(X))\n",
    "    return np.argmax(A, axis = 0)"
   ]
  },
  {
   "cell_type": "code",
   "execution_count": 54,
   "metadata": {},
   "outputs": [
    {
     "data": {
      "text/plain": [
       "<matplotlib.collections.PathCollection at 0x1f2f3704080>"
      ]
     },
     "execution_count": 54,
     "metadata": {},
     "output_type": "execute_result"
    },
    {
     "data": {
      "image/png": "[encoded data removed]",
      "text/plain": [
       "<Figure size 432x288 with 1 Axes>"
      ]
     },
     "metadata": {
      "needs_background": "light"
     },
     "output_type": "display_data"
    }
   ],
   "source": [
    "means = np.array([[2,2,2,2,2],[8,2,8,2,8],[8,8,8,8,8],[2,8,2,8,2]]) # trung tâm xác suất\n",
    "cov = np.identity(5)\n",
    "N = 500\n",
    "\n",
    "X0 = np.random.multivariate_normal(means[0],cov, N)\n",
    "X1 = np.random.multivariate_normal(means[1],cov, N)                                 \n",
    "X2 = np.random.multivariate_normal(means[2],cov, N)                                 \n",
    "X3 = np.random.multivariate_normal(means[3],cov, N)                                 \n",
    "                                \n",
    "X = np.concatenate((X0,X1,X2,X3), axis = 0).T\n",
    "\n",
    "X = np.concatenate((np.ones((1,4*N)), X),axis = 0)\n",
    "\n",
    "C = 4 \n",
    "\n",
    "original_label = np.asarray([0]*N +[1]*N + [2]*N +[3]*N ).T                          \n",
    "                                 \n",
    "plt.scatter(X0[:,0],X0[:,1],s = 100 ,marker = '+', color = 'r')\n",
    "plt.scatter(X1[:,0],X1[:,1],s = 100, marker = '*', color = 'k')\n",
    "plt.scatter(X2[:,0],X2[:,1],s = 100,marker= '^',color = 'y' )\n",
    "plt.scatter(X3[:,0],X3[:,1],s = 100,marker= 'o',color = 'g' )\n",
    "\n",
    "plt.scatter(means[0,0],means[0,1])\n",
    "plt.scatter(means[1,0],means[1,1])\n",
    "plt.scatter(means[2,0],means[2,1])\n",
    "plt.scatter(means[3,0],means[3,1])\n"
   ]
  },
  {
   "cell_type": "code",
   "execution_count": 57,
   "metadata": {},
   "outputs": [
    {
     "name": "stdout",
     "output_type": "stream",
     "text": [
      "[[ 0.47980561 -0.1350732   0.66096124 -0.09588676]\n",
      " [-0.14931558  0.94101654 -0.09697841 -0.23034008]\n",
      " [-0.48113737  1.43437485 -1.20993337 -0.92308504]\n",
      " [ 1.11594386 -0.37904261 -0.98318029  1.7074962 ]\n",
      " [ 2.21420794 -0.85924883  1.13965742  1.14709412]\n",
      " [-0.7827058   0.73528876  0.12380264  1.83638877]]\n"
     ]
    }
   ],
   "source": [
    "W_init = np.random.randn(X.shape[0], C)\n",
    "W = softmax_regression(X, original_label, W_init, eta)\n",
    "print(W_init)\n"
   ]
  },
  {
   "cell_type": "code",
   "execution_count": null,
   "metadata": {},
   "outputs": [],
   "source": []
  }
 ],
 "metadata": {
  "kernelspec": {
   "display_name": "Python 3",
   "language": "python",
   "name": "python3"
  },
  "language_info": {
   "codemirror_mode": {
    "name": "ipython",
    "version": 3
   },
   "file_extension": ".py",
   "mimetype": "text/x-python",
   "name": "python",
   "nbconvert_exporter": "python",
   "pygments_lexer": "ipython3",
   "version": "3.7.1"
  }
 },
 "nbformat": 4,
 "nbformat_minor": 2
}

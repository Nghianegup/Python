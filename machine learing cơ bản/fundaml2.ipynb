{
 "cells": [
  {
   "cell_type": "markdown",
   "metadata": {},
   "source": [
    "#### Làm việc với ma trận "
   ]
  },
  {
   "cell_type": "code",
   "execution_count": 2,
   "metadata": {},
   "outputs": [],
   "source": [
    "import numpy as np"
   ]
  },
  {
   "cell_type": "markdown",
   "metadata": {},
   "source": [
    "#### Khởi tạo 1 ma trận"
   ]
  },
  {
   "cell_type": "code",
   "execution_count": 2,
   "metadata": {},
   "outputs": [
    {
     "name": "stdout",
     "output_type": "stream",
     "text": [
      "[[1 2 3]\n",
      " [4 5 6]\n",
      " [7 8 9]]\n"
     ]
    }
   ],
   "source": [
    "A = np.array([[1,2,3],[4,5,6],[7,8,9]])\n",
    "print(A)"
   ]
  },
  {
   "cell_type": "markdown",
   "metadata": {},
   "source": [
    "####  Ma trận đơn vị và ma trận đường chéo "
   ]
  },
  {
   "cell_type": "code",
   "execution_count": 3,
   "metadata": {},
   "outputs": [
    {
     "name": "stdout",
     "output_type": "stream",
     "text": [
      "[[0 0 0 0 0 0 0 0 0 0]\n",
      " [1 0 0 0 0 0 0 0 0 0]\n",
      " [0 2 0 0 0 0 0 0 0 0]\n",
      " [0 0 3 0 0 0 0 0 0 0]\n",
      " [0 0 0 4 0 0 0 0 0 0]\n",
      " [0 0 0 0 5 0 0 0 0 0]\n",
      " [0 0 0 0 0 6 0 0 0 0]\n",
      " [0 0 0 0 0 0 7 0 0 0]\n",
      " [0 0 0 0 0 0 0 8 0 0]\n",
      " [0 0 0 0 0 0 0 0 9 0]]\n"
     ]
    }
   ],
   "source": [
    "a = np.diag([1,2,3,4,5,6,7,8,9],k = -1)\n",
    "print(a)"
   ]
  },
  {
   "cell_type": "markdown",
   "metadata": {},
   "source": [
    "#### Truy cập vòa từng phần tử của ma trân"
   ]
  },
  {
   "cell_type": "code",
   "execution_count": 4,
   "metadata": {},
   "outputs": [
    {
     "name": "stdout",
     "output_type": "stream",
     "text": [
      "4\n",
      "[1 4 7 4]\n",
      "4\n",
      "7\n",
      "4\n",
      "3\n",
      "6\n",
      "9\n",
      "9\n"
     ]
    },
    {
     "data": {
      "text/plain": [
       "43"
      ]
     },
     "execution_count": 4,
     "metadata": {},
     "output_type": "execute_result"
    }
   ],
   "source": [
    "x = np.array([[1,2,3],[4,5,6],[7,8,9],[4,7,9]])\n",
    "x.shape\n",
    "i=x.shape[0]\n",
    "print(i)\n",
    "print(x[:,0])\n",
    "print(x[1,0])\n",
    "print(x[2,0])\n",
    "print(x[3,0])\n",
    "print(x[0,2])\n",
    "print(x[1,2])\n",
    "print(x[2,2])\n",
    "print(x[3,2])\n",
    "a = np.sum(x[0,0]+x[1,0]+x[2,0]+x[3,0]+x[0,2]+x[1,2]+x[2,2]+x[3,2])\n",
    "a"
   ]
  },
  {
   "cell_type": "code",
   "execution_count": 5,
   "metadata": {},
   "outputs": [
    {
     "name": "stdout",
     "output_type": "stream",
     "text": [
      "43\n"
     ]
    }
   ],
   "source": [
    "D = np.array([[1,2,3],[4,5,6],[7,8,9],[4,7,9]])\n",
    "def myfunc(x):\n",
    "    i = x.shape[0]\n",
    "    j = x.shape[1]\n",
    "    A = 0\n",
    "    n = 0\n",
    "    m = 0\n",
    "    while m < j :\n",
    "        for n in range(0,i):\n",
    "                A = A+ x[n,m]        \n",
    "        m += 2\n",
    "    print(A)\n",
    "myfunc(D)"
   ]
  },
  {
   "cell_type": "markdown",
   "metadata": {},
   "source": [
    "#### Truy cập vào nhiều phần tử của ma trận"
   ]
  },
  {
   "cell_type": "code",
   "execution_count": 6,
   "metadata": {},
   "outputs": [
    {
     "name": "stdout",
     "output_type": "stream",
     "text": [
      "24\n"
     ]
    }
   ],
   "source": [
    "B = np.array([[1, 2, 3, 4], [5, 6, 7, 8], [9, 10, 11, 12]])\n",
    "def myfunc(x):\n",
    "    i = x.shape[0]\n",
    "    j = x.shape[1]\n",
    "    A = 0\n",
    "    m = 0\n",
    "    while m < j:\n",
    "        n = 0\n",
    "        while n < i :\n",
    "            A = A+ x[n,m]\n",
    "            n = n + 2\n",
    "        m = m + 2    \n",
    "    print(A)  \n",
    "myfunc(B)    \n",
    "            "
   ]
  },
  {
   "cell_type": "markdown",
   "metadata": {},
   "source": [
    "#### np.sum, np.min, np.max, np.mean cho mảng nhiều chiều"
   ]
  },
  {
   "cell_type": "code",
   "execution_count": 7,
   "metadata": {},
   "outputs": [
    {
     "name": "stdout",
     "output_type": "stream",
     "text": [
      "11\n"
     ]
    }
   ],
   "source": [
    "H = np.array([[1, 2, 3, 4], [4, 3, 7, 8], [9, 6, 7, 7]])\n",
    "def myfunc(x):\n",
    "    i = x.shape[0]\n",
    "    j = x.shape[1]\n",
    "    A = 0\n",
    "    x = 0\n",
    "    while x < i:\n",
    "        A = np.max(H[x,:]) - np.min(H[x,:]) + A \n",
    "        x += 1\n",
    "    print(A)\n",
    "myfunc(H)\n"
   ]
  },
  {
   "cell_type": "markdown",
   "metadata": {},
   "source": [
    "#### Các phép toán tác động đến mọi phần tử của ma trận"
   ]
  },
  {
   "cell_type": "code",
   "execution_count": 17,
   "metadata": {},
   "outputs": [
    {
     "name": "stdout",
     "output_type": "stream",
     "text": [
      "12.489995996796797\n"
     ]
    }
   ],
   "source": [
    "F = np.array([[1, 3], [2, 5],[6,9]])\n",
    "def norm_fro(x):\n",
    "    i = x.shape[0]\n",
    "    j = x.shape[1]\n",
    "    A = 0\n",
    "    y = 2\n",
    "    m = 0\n",
    "    n = 0\n",
    "    while  m < j :\n",
    "        for n in range(0,i): \n",
    "            A = np.sum(x[n,m]**y) + A\n",
    "        m += 1  \n",
    "        h = np.sqrt(A)\n",
    "    print(h)    \n",
    "norm_fro(F) "
   ]
  },
  {
   "cell_type": "code",
   "execution_count": null,
   "metadata": {},
   "outputs": [],
   "source": []
  },
  {
   "cell_type": "code",
   "execution_count": 27,
   "metadata": {},
   "outputs": [
    {
     "name": "stdout",
     "output_type": "stream",
     "text": [
      "3.1622776601683795\n"
     ]
    }
   ],
   "source": [
    "A = np.array([[1., 5], [2, 3]])\n",
    "B = np.array([[5., 2], [4, 3]])     \n",
    "def dist_fro(x):\n",
    "    i = x.shape[0]\n",
    "    j = x.shape[1]\n",
    "    C = 0\n",
    "    D = 0\n",
    "    m = 0 \n",
    "    n = 0 \n",
    "    q = 0 \n",
    "    w = 0\n",
    "    while m  < j:\n",
    "        for n in range(0,i): \n",
    "            C = np.sum(x[n,m]**2) + C\n",
    "            m += 1\n",
    "            h = np.sqrt(C)\n",
    "    print(h)\n",
    "dist_fro(A)\n",
    "    "
   ]
  },
  {
   "cell_type": "code",
   "execution_count": 5,
   "metadata": {},
   "outputs": [],
   "source": [
    "np.random.seed(1) "
   ]
  },
  {
   "cell_type": "code",
   "execution_count": null,
   "metadata": {},
   "outputs": [],
   "source": []
  },
  {
   "cell_type": "code",
   "execution_count": null,
   "metadata": {},
   "outputs": [],
   "source": []
  }
 ],
 "metadata": {
  "kernelspec": {
   "display_name": "Python 3",
   "language": "python",
   "name": "python3"
  },
  "language_info": {
   "codemirror_mode": {
    "name": "ipython",
    "version": 3
   },
   "file_extension": ".py",
   "mimetype": "text/x-python",
   "name": "python",
   "nbconvert_exporter": "python",
   "pygments_lexer": "ipython3",
   "version": "3.7.1"
  }
 },
 "nbformat": 4,
 "nbformat_minor": 2
}

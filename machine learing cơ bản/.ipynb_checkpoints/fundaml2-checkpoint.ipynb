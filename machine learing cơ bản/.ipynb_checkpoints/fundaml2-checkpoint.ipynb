{
 "cells": [
  {
   "cell_type": "markdown",
   "metadata": {},
   "source": [
    "#### Làm việc với ma trận "
   ]
  },
  {
   "cell_type": "code",
   "execution_count": 2,
   "metadata": {},
   "outputs": [],
   "source": [
    "import numpy as np"
   ]
  },
  {
   "cell_type": "markdown",
   "metadata": {},
   "source": [
    "#### Khởi tạo 1 ma trận"
   ]
  },
  {
   "cell_type": "code",
   "execution_count": 2,
   "metadata": {},
   "outputs": [
    {
     "name": "stdout",
     "output_type": "stream",
     "text": [
      "[[1 2 3]\n",
      " [4 5 6]\n",
      " [7 8 9]]\n"
     ]
    }
   ],
   "source": [
    "A = np.array([[1,2,3],[4,5,6],[7,8,9]])\n",
    "print(A)"
   ]
  },
  {
   "cell_type": "markdown",
   "metadata": {},
   "source": [
    "####  Ma trận đơn vị và ma trận đường chéo "
   ]
  },
  {
   "cell_type": "code",
   "execution_count": 3,
   "metadata": {},
   "outputs": [
    {
     "name": "stdout",
     "output_type": "stream",
     "text": [
      "[[0 0 0 0 0 0 0 0 0 0]\n",
      " [1 0 0 0 0 0 0 0 0 0]\n",
      " [0 2 0 0 0 0 0 0 0 0]\n",
      " [0 0 3 0 0 0 0 0 0 0]\n",
      " [0 0 0 4 0 0 0 0 0 0]\n",
      " [0 0 0 0 5 0 0 0 0 0]\n",
      " [0 0 0 0 0 6 0 0 0 0]\n",
      " [0 0 0 0 0 0 7 0 0 0]\n",
      " [0 0 0 0 0 0 0 8 0 0]\n",
      " [0 0 0 0 0 0 0 0 9 0]]\n"
     ]
    }
   ],
   "source": [
    "a = np.diag([1,2,3,4,5,6,7,8,9],k = -1)\n",
    "print(a)"
   ]
  },
  {
   "cell_type": "markdown",
   "metadata": {},
   "source": [
    "#### Truy cập vòa từng phần tử của ma trân"
   ]
  },
  {
   "cell_type": "code",
   "execution_count": 4,
   "metadata": {},
   "outputs": [
    {
     "name": "stdout",
     "output_type": "stream",
     "text": [
      "4\n",
      "[1 4 7 4]\n",
      "4\n",
      "7\n",
      "4\n",
      "3\n",
      "6\n",
      "9\n",
      "9\n"
     ]
    },
    {
     "data": {
      "text/plain": [
       "43"
      ]
     },
     "execution_count": 4,
     "metadata": {},
     "output_type": "execute_result"
    }
   ],
   "source": [
    "x = np.array([[1,2,3],[4,5,6],[7,8,9],[4,7,9]])\n",
    "x.shape\n",
    "i=x.shape[0]\n",
    "print(i)\n",
    "print(x[:,0])\n",
    "print(x[1,0])\n",
    "print(x[2,0])\n",
    "print(x[3,0])\n",
    "print(x[0,2])\n",
    "print(x[1,2])\n",
    "print(x[2,2])\n",
    "print(x[3,2])\n",
    "a = np.sum(x[0,0]+x[1,0]+x[2,0]+x[3,0]+x[0,2]+x[1,2]+x[2,2]+x[3,2])\n",
    "a"
   ]
  },
  {
   "cell_type": "code",
   "execution_count": 5,
   "metadata": {},
   "outputs": [
    {
     "name": "stdout",
     "output_type": "stream",
     "text": [
      "43\n"
     ]
    }
   ],
   "source": [
    "D = np.array([[1,2,3],[4,5,6],[7,8,9],[4,7,9]])\n",
    "def myfunc(x):\n",
    "    i = x.shape[0]\n",
    "    j = x.shape[1]\n",
    "    A = 0\n",
    "    n = 0\n",
    "    m = 0\n",
    "    while m < j :\n",
    "        for n in range(0,i):\n",
    "                A = A+ x[n,m]        \n",
    "        m += 2\n",
    "    print(A)\n",
    "myfunc(D)"
   ]
  },
  {
   "cell_type": "markdown",
   "metadata": {},
   "source": [
    "#### Truy cập vào nhiều phần tử của ma trận"
   ]
  },
  {
   "cell_type": "code",
   "execution_count": 6,
   "metadata": {},
   "outputs": [
    {
     "name": "stdout",
     "output_type": "stream",
     "text": [
      "24\n"
     ]
    }
   ],
   "source": [
    "B = np.array([[1, 2, 3, 4], [5, 6, 7, 8], [9, 10, 11, 12]])\n",
    "def myfunc(x):\n",
    "    i = x.shape[0]\n",
    "    j = x.shape[1]\n",
    "    A = 0\n",
    "    m = 0\n",
    "    while m < j:\n",
    "        n = 0\n",
    "        while n < i :\n",
    "            A = A+ x[n,m]\n",
    "            n = n + 2\n",
    "        m = m + 2    \n",
    "    print(A)  \n",
    "myfunc(B)    \n",
    "            "
   ]
  },
  {
   "cell_type": "markdown",
   "metadata": {},
   "source": [
    "#### np.sum, np.min, np.max, np.mean cho mảng nhiều chiều"
   ]
  },
  {
   "cell_type": "code",
   "execution_count": 7,
   "metadata": {},
   "outputs": [
    {
     "name": "stdout",
     "output_type": "stream",
     "text": [
      "11\n"
     ]
    }
   ],
   "source": [
    "H = np.array([[1, 2, 3, 4], [4, 3, 7, 8], [9, 6, 7, 7]])\n",
    "def myfunc(x):\n",
    "    i = x.shape[0]\n",
    "    j = x.shape[1]\n",
    "    A = 0\n",
    "    x = 0\n",
    "    while x < i:\n",
    "        A = np.max(H[x,:]) - np.min(H[x,:]) + A \n",
    "        x += 1\n",
    "    print(A)\n",
    "myfunc(H)\n"
   ]
  },
  {
   "cell_type": "markdown",
   "metadata": {},
   "source": [
    "#### Các phép toán tác động đến mọi phần tử của ma trận"
   ]
  },
  {
   "cell_type": "code",
   "execution_count": 17,
   "metadata": {},
   "outputs": [
    {
     "name": "stdout",
     "output_type": "stream",
     "text": [
      "12.489995996796797\n"
     ]
    }
   ],
   "source": [
    "F = np.array([[1, 3], [2, 5],[6,9]])\n",
    "def norm_fro(x):\n",
    "    i = x.shape[0]\n",
    "    j = x.shape[1]\n",
    "    A = 0\n",
    "    y = 2\n",
    "    m = 0\n",
    "    n = 0\n",
    "    while  m < j :\n",
    "        for n in range(0,i): \n",
    "            A = np.sum(x[n,m]**y) + A\n",
    "        m += 1  \n",
    "        h = np.sqrt(A)\n",
    "    print(h)    \n",
    "norm_fro(F) "
   ]
  },
  {
   "cell_type": "code",
   "execution_count": null,
   "metadata": {},
   "outputs": [],
   "source": []
  },
  {
   "cell_type": "code",
   "execution_count": 27,
   "metadata": {},
   "outputs": [
    {
     "name": "stdout",
     "output_type": "stream",
     "text": [
      "3.1622776601683795\n"
     ]
    }
   ],
   "source": [
    "A = np.array([[1., 5], [2, 3]])\n",
    "B = np.array([[5., 2], [4, 3]])     \n",
    "def dist_fro(x):\n",
    "    i = x.shape[0]\n",
    "    j = x.shape[1]\n",
    "    C = 0\n",
    "    D = 0\n",
    "    m = 0 \n",
    "    n = 0 \n",
    "    q = 0 \n",
    "    w = 0\n",
    "    while m  < j:\n",
    "        for n in range(0,i): \n",
    "            C = np.sum(x[n,m]**2) + C\n",
    "            m += 1\n",
    "            h = np.sqrt(C)\n",
    "    print(h)\n",
    "dist_fro(A)\n",
    "    "
   ]
  },
  {
   "cell_type": "code",
   "execution_count": 3,
   "metadata": {},
   "outputs": [
    {
     "data": {
      "text/plain": [
       "array([[0.68568602, 0.429928  , 0.01554177, 0.7865338 , 0.21919802,\n",
       "        0.35830543, 0.84812301, 0.69251364, 0.44310496, 0.86249258],\n",
       "       [0.21689216, 0.00459739, 0.84835759, 0.49287728, 0.11229338,\n",
       "        0.31185392, 0.56838143, 0.65008051, 0.2703604 , 0.21724785],\n",
       "       [0.46951858, 0.31189314, 0.04817285, 0.93940836, 0.30891943,\n",
       "        0.03690844, 0.91028364, 0.25529929, 0.38887814, 0.57742549],\n",
       "       [0.40539946, 0.83270844, 0.91643919, 0.52130823, 0.04326496,\n",
       "        0.9407752 , 0.58229693, 0.91417921, 0.98536505, 0.60675082],\n",
       "       [0.37539963, 0.1209056 , 0.60543709, 0.47355117, 0.60923576,\n",
       "        0.51565113, 0.00975372, 0.52641332, 0.21205843, 0.10732423],\n",
       "       [0.33099946, 0.08111154, 0.64837742, 0.1838441 , 0.01054004,\n",
       "        0.67151304, 0.25419075, 0.60495951, 0.09797765, 0.16279225],\n",
       "       [0.06656534, 0.69741888, 0.68374528, 0.9271503 , 0.94709131,\n",
       "        0.80225262, 0.1887016 , 0.05949625, 0.96217891, 0.56833469],\n",
       "       [0.01517975, 0.30879123, 0.57899216, 0.13810832, 0.26100961,\n",
       "        0.66535766, 0.06786629, 0.78894787, 0.73698152, 0.8276313 ],\n",
       "       [0.21561769, 0.65509459, 0.61124875, 0.18857159, 0.96804983,\n",
       "        0.1655471 , 0.21574464, 0.83613417, 0.2827343 , 0.14886079],\n",
       "       [0.51563895, 0.06124699, 0.28618867, 0.2045622 , 0.81447735,\n",
       "        0.89518051, 0.5277316 , 0.27858344, 0.83272461, 0.70069404]])"
      ]
     },
     "execution_count": 3,
     "metadata": {},
     "output_type": "execute_result"
    }
   ],
   "source": [
    "np.random.rand(10, 10)"
   ]
  },
  {
   "cell_type": "code",
   "execution_count": null,
   "metadata": {},
   "outputs": [],
   "source": []
  },
  {
   "cell_type": "code",
   "execution_count": null,
   "metadata": {},
   "outputs": [],
   "source": []
  }
 ],
 "metadata": {
  "kernelspec": {
   "display_name": "Python 3",
   "language": "python",
   "name": "python3"
  },
  "language_info": {
   "codemirror_mode": {
    "name": "ipython",
    "version": 3
   },
   "file_extension": ".py",
   "mimetype": "text/x-python",
   "name": "python",
   "nbconvert_exporter": "python",
   "pygments_lexer": "ipython3",
   "version": "3.7.1"
  }
 },
 "nbformat": 4,
 "nbformat_minor": 2
}

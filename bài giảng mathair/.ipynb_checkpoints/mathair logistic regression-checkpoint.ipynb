{
 "cells": [
  {
   "cell_type": "markdown",
   "metadata": {},
   "source": [
    "## Tóm Tắt Bài Giảng Logistic Regression"
   ]
  },
  {
   "cell_type": "markdown",
   "metadata": {},
   "source": [
    "- cho đầu vào X đưa qua hàm g(hàm chọn lọc đặc trưng) cho ra $Z_x$,cho $Z_x$ qua hàm linear để $\\bar{Z_x}$,mục đích là để biến đổi cho cùng chiều với đầu ra $\\bar{Z_y}$, để so sánh khoảng cách $d(\\bar{Z_x},\\bar{Z_y})$ với đầu ra y. Cũng làm tương tự như vậy với đầu ra.\n",
    "- với hàm sigmoid thì xác suất là từ 0 đến 1 cho qua hàm softmax : $ Z_{i}^p = \\frac{\\sigma(Z_i)}{\\sum_{i=1}^d\\sigma(Z_j)}$ với điều kiện là : $ \\begin{cases} 0 <=  Z_{i}^p <=1\\\\\n",
    "\\sum_{i=1}^dZ_j^p = 1\\end{cases}$\n",
    " - làm tương tự với $\\bar{Z_y}$\n",
    " - khi có 2 vector là xác suất $Z_x$,$Z_y$ để tính khoảng cách tâ dùng hàm cross entropy :$ d_Z = \\sum_{i=1}^d-Z_i^x\\log Z_i^y$\n",
    " - nếu nhiều class thì đầu ra sẽ là"
   ]
  },
  {
   "cell_type": "code",
   "execution_count": null,
   "metadata": {},
   "outputs": [],
   "source": []
  }
 ],
 "metadata": {
  "kernelspec": {
   "display_name": "Python 3",
   "language": "python",
   "name": "python3"
  },
  "language_info": {
   "codemirror_mode": {
    "name": "ipython",
    "version": 3
   },
   "file_extension": ".py",
   "mimetype": "text/x-python",
   "name": "python",
   "nbconvert_exporter": "python",
   "pygments_lexer": "ipython3",
   "version": "3.7.1"
  }
 },
 "nbformat": 4,
 "nbformat_minor": 2
}

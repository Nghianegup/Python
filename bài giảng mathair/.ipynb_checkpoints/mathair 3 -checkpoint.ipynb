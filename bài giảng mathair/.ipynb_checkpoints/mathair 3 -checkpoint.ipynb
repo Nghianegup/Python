{
 "cells": [
  {
   "cell_type": "markdown",
   "metadata": {},
   "source": [
    "[MathAIR'19.01 Lesson 3](https://www.youtube.com/watch?v=8o6tgTWEZIE&t=601s)"
   ]
  },
  {
   "cell_type": "markdown",
   "metadata": {},
   "source": [
    "## Vector và không gian vector"
   ]
  },
  {
   "cell_type": "markdown",
   "metadata": {},
   "source": [
    "### Vector là gì ?"
   ]
  },
  {
   "cell_type": "markdown",
   "metadata": {},
   "source": [
    "- Vector là 1 mũi tên có gốc, ngọn ,hướng ,độ lớn \n",
    "- Vector là 1 điểm trong không gian vector \n",
    "* Vector space có 4 thành phần (V, R , + , *)"
   ]
  },
  {
   "cell_type": "markdown",
   "metadata": {},
   "source": [
    "### Định nghĩa "
   ]
  },
  {
   "cell_type": "markdown",
   "metadata": {},
   "source": [
    "* nếu tập V cùng 2 phép toán thỏa 2 điều kiện :\n",
    " 1. phép cộng 2 phàn tử : u + v thuộc V , với mọi u,v thuộc V\n",
    " 2. phép nhân với 1 số: a*v thuộc V, mọi v thuộc V, a thuộc R(số thực) thì tập V là 1 không gian vector, v thuộc V là 1 vector."
   ]
  },
  {
   "cell_type": "markdown",
   "metadata": {},
   "source": [
    "- Vậy nếu ta tịnh tiến (+) hoặc co giãn (*) các vertor trong V  thì chúng vẫn thuộc V.\n",
    " - Nếu số thực + thì vector dãn còn âm thì vector co lại và bị lật chiều của vector."
   ]
  },
  {
   "cell_type": "markdown",
   "metadata": {},
   "source": [
    "### Một số  không gian vector  tiêu biểu "
   ]
  },
  {
   "cell_type": "markdown",
   "metadata": {},
   "source": [
    " * Ví dụ 1 :\n",
    "  - Mô tả 1 người (chiều cao ,tuổi, cân nặng,..)\n",
    "  - Với không gian tọa độ (coodinate space)\n",
    " * Ví dụ 2 :\n",
    "  - Biểu diễn dữ liệu hình ảnh , video.\n",
    "  - không gian các tensor(mảng đa chiều)\n",
    " * VÍ dụ 3 :\n",
    "  - Biểu diễn 1 số không gian hàm số (function spaces)\n",
    "  - Không gian các đa thức \n",
    "       - *xem kĩ ở linh bên trên.*"
   ]
  },
  {
   "cell_type": "markdown",
   "metadata": {},
   "source": [
    "**Vậy không gian vector rất đa dạng chỉ cần phép cộng phép nhân mà thuộc không gian đó thì đều là vector spaces và ứng dụng của nó để biểu hiện không gian hàm số, tham số hay không gian hình ảnh đều được .** "
   ]
  },
  {
   "cell_type": "markdown",
   "metadata": {},
   "source": [
    "### Tại sao vector cơ sở và hệ cơ sở là trọng tâm của Machine Learning ?"
   ]
  },
  {
   "cell_type": "markdown",
   "metadata": {},
   "source": [
    "* vì các hệ cơ sở cảng lên cao,cảng rõ thì ý nghĩa củ các basis càng lớn. \n",
    " - Ví dụ như đối với 1 tấm hình mà basic càng lớn thì ta có thể nhận biết được tấm hình đó."
   ]
  },
  {
   "cell_type": "markdown",
   "metadata": {},
   "source": [
    "### Ý nghĩa của hệ cơ sở (basis) trong không gian vector "
   ]
  },
  {
   "cell_type": "markdown",
   "metadata": {},
   "source": [
    "- hướng trục (directions)\n",
    "- cột mốc (landmarks)\n",
    "- Đặc trưng (features)\n",
    "- Từ vựng (words)\n",
    "- Chuẩn, mẫu (prototypes)\n",
    "- những cái trừu tượng (regularities) \n",
    "- **mỗi coordinates phản ánh mức độ giống và khác nhau giữa vector v và các vector cơ sở.**"
   ]
  },
  {
   "cell_type": "code",
   "execution_count": null,
   "metadata": {},
   "outputs": [],
   "source": []
  }
 ],
 "metadata": {
  "kernelspec": {
   "display_name": "Python 3",
   "language": "python",
   "name": "python3"
  },
  "language_info": {
   "codemirror_mode": {
    "name": "ipython",
    "version": 3
   },
   "file_extension": ".py",
   "mimetype": "text/x-python",
   "name": "python",
   "nbconvert_exporter": "python",
   "pygments_lexer": "ipython3",
   "version": "3.7.1"
  }
 },
 "nbformat": 4,
 "nbformat_minor": 2
}

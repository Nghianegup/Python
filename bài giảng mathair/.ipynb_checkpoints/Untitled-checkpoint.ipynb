{
 "cells": [
  {
   "cell_type": "markdown",
   "metadata": {},
   "source": [
    "### Tóm Tắt bài giảng "
   ]
  },
  {
   "cell_type": "markdown",
   "metadata": {},
   "source": [
    "- (Không gian tấm hình màu) $R^{m x n x k}$. Ta có đầu vào X $\\in$ $R^{m x n x k}$ cho qua hàm f và cho đầu ra la Y $\\in$ $R^p$ . Ví dụ :{ gấu,đại bàng, mèo ,mặt người} $\\rightarrow$ $R^4$ Ví dụ : x là mèo y =[0,0,1,0]\n",
    "- Chia hàm f làm 2 hàm nhỏ :\n",
    "  * 1 đưa qua $G$ để tìm kiếm trong không gian tấm hình. Ví dụg $G_1$ là tóc màu gì-1 con số $G_2$ là tóc dài hay ngắn - 1 con số, $G_3$ là tóc kiểu gì - 1 con số $G_4$ là khôn mặt ra sao - 1 con số. Vậy G = $[G_1,….,G_d]$ :basic(hàm cơ sở) v là ta có $G(x)$ = $Z = [Z_1=G_1(x),...Z_d= G_d(x)]$ $\\in$ $R^d$ :vector tọa độ(coordinates). cho Z qua hàm $H = [H_1,H_2...,H_3]$.Với Y $\\in$ $R^p$ ta có $Y = [Y_1,Y_2...Y_p]$. Ta sự sai lệch giữa $R^p$ và $R^d$ mà ta đưa hàm Z qua H nên ta dc $\\hat{y} = [H_1(z),H_2(z),...,H_p(z)]$. Có $\\hat{y}$ ta so sánh khoảng cái với $Y$ bằng hàm $distance_{d(ŷ,y)} =$ nếu Y giống y thì d nhỏ, nếu Y khác y thì d lớn.    \n",
    " -$\\textbf{ Vậy machine learning là đi tìm hàm f gồm g và h .Và đi tìm hàm f đầu ra mà so với đầu ra mà mình biết là phải nhỏ nhất}$.   \n",
    " - Để tìm khoảng cách nhỏ nhất ta có : $D(f,f^*)$ $\\approx$ ${\\sum_{t=1}^{n}d(Y_t,ŷ_t)}$ với hàm tuyến tính $H = wx +b $\n",
    " - Nhưng nếu đầu ra y là 1 số R  thì để tính khoảng cách thì ta phải: \n",
    "   Regression:${d(Y_t,ŷ_t)}$ $=\\left | Y-\\hat{y} \\right |$ trị tuyệt đối thì máy tính khó tính toán nên ta phải dùng $(Y,\\hat{y})^2$  $\\rightarrow$ $\\frac{\\sum_{t=1}^{n}d^2(Y_t,ŷ_t)}{n}$              \n",
    " - Vậy bài toán đơn giản nhất của linear regression là:\n",
    "- Ví dụ đầu vào là các bức hình người mình chuyển qua 1 con số có kích cỡ của người đã có tọa độ từ đó mình chuyển qua hàm tuyến tính để đưa ra chiều cao của người đó. Thì mình so sánh chiều cao của hàm tính và chiều cao thực tế và tính sai sô bình phương để tìm hàm tính chiều cao tốt nhất.\n",
    "  \n",
    "\n",
    "                                                                - \n",
    "              \n",
    "                   \n",
    "                \n",
    " "
   ]
  },
  {
   "cell_type": "markdown",
   "metadata": {},
   "source": [
    " ### Tóm tắt bài giảng 2"
   ]
  },
  {
   "cell_type": "markdown",
   "metadata": {},
   "source": [
    "Có đầu vào X $\\in$ $R^{n x m x k}$ (là tấm nhìn màu) . cho ra đầu ra Y $\\in$ $R^p$ . Đưa X qua hàm $h = [h1,h2,...h_n]$ để cho ra vector tọa độ $Z = [Z_1, Z_2,... Z_n]$ $\\\\epsilon R^n$. Đưa $Z$ qua hàm $\\textbf {'g'}$ cho ra đầu ra là $ŷ = [ŷ_1,ŷ_2,... ŷ_p]$\n",
    "- công thức $\\textbf {'g'}$ theo Multiple regression $\\hat{y}_1 = w^t*Z+b$ ,$\\hat{y}_2 = m^t*Z+c$\n",
    "- $ D = {{(X_t, Y_t)}}_{t=1}^{n}$\n",
    "-  $d^2(y,ŷ) =\\left | Y-\\hat{y} \\right |^2$ =$(y_1-\\hat{y}_1)^2 + (y_2-\\hat{y}_2)^2 $=  $\\sum_{j=1}^{p} (y_j,ŷ_j)^2$ \n",
    "- suy ra  $L_d(y,ŷ)$ = $\\frac{\\sum_{i=1}^{n}d^2(y_t,ŷ_t)}{n}$ = $ \\sum_{i=1}^{n}\\frac{\\sum_{j=1}^{p} (y_j,ŷ_j)^2}{n}$"
   ]
  },
  {
   "cell_type": "code",
   "execution_count": null,
   "metadata": {},
   "outputs": [],
   "source": []
  }
 ],
 "metadata": {
  "kernelspec": {
   "display_name": "Python 3",
   "language": "python",
   "name": "python3"
  },
  "language_info": {
   "codemirror_mode": {
    "name": "ipython",
    "version": 3
   },
   "file_extension": ".py",
   "mimetype": "text/x-python",
   "name": "python",
   "nbconvert_exporter": "python",
   "pygments_lexer": "ipython3",
   "version": "3.7.1"
  }
 },
 "nbformat": 4,
 "nbformat_minor": 2
}

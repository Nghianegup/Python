{
 "cells": [
  {
   "cell_type": "markdown",
   "metadata": {},
   "source": [
    "## Trí tuệ là gì ?"
   ]
  },
  {
   "cell_type": "raw",
   "metadata": {},
   "source": [
    " Trí tuệ là khả năng học và áp dụng kiến thức để vận dụng vào công việc và cuộc sống 1 cái hiệu quả và thuận lợi nhất \n",
    "- trí tuệ có nhiều hình thức \n",
    " * có 9 loại trí thông minh "
   ]
  },
  {
   "cell_type": "markdown",
   "metadata": {},
   "source": [
    "## Trí tuệ nhân tạo là gì ?"
   ]
  },
  {
   "cell_type": "raw",
   "metadata": {},
   "source": [
    "Trí tuệ nhân tạo hay trí thông minh nhân tạo là một ngành thuộc lĩnh vực khoa học máy tính.\n",
    "Là trí tuệ do con người lập trình tạo nên với mục tiêu giúp máy tính có thể tự động hóa các hành vi thông minh như con người.\n",
    "Cụ thể, trí tuệ nhân tạo giúp máy tính có được những trí tuệ của con người như: biết suy nghĩ và lập luận để giải quyết vấn đề, biết giao tiếp do hiểu ngôn ngữ, tiếng nói, biết học và tự thích nghi,…."
   ]
  },
  {
   "cell_type": "markdown",
   "metadata": {},
   "source": [
    "##  Học là gì? Học máy (machine learning; ML) là gì? Vị trí của ML trong AI? Kiến thức kỹ năng có thể được biểu diễn trong máy tính ra sao?"
   ]
  },
  {
   "cell_type": "raw",
   "metadata": {},
   "source": [
    "- Học là thu thập kiến thức kĩ năng thông qua trải nghiệm giáo dục, nghiên cứu \n",
    "- Học máy là một lĩnh vực của trí tuệ nhân tạo liên quan đến việc nghiên cứu và xây dựng các kĩ thuật cho phép các hệ thống \"học\" tự động từ dữ liệu để giải quyết những vấn đề cụ thể. Học máy có liên quan lớn đến thống kê, vì cả hai lĩnh vực đều nghiên cứu việc phân tích dữ liệu, nhưng khác với thống kê, học máy tập trung vào sự phức tạp của các giải thuật trong việc thực thi tính toán.\n",
    "- ML là 1 tập con của AI, là 1 phần nhỏ trong AI nhưng cũng rất quan trọng.\n",
    "- kiến thức kĩ năng được biểu diễn trong máy tính nhờ các thông số,hàm số logic."
   ]
  },
  {
   "cell_type": "markdown",
   "metadata": {},
   "source": [
    "## Các thành phần cơ bản (TEFPA như trong bài giảng) cần được mô tả và cung cấp để máy tính tự học cách giải quyết một tác vụ là gì?"
   ]
  },
  {
   "cell_type": "raw",
   "metadata": {},
   "source": [
    "T cho nhiệm vụ(Task)\n",
    "E trải nghiệm (experience)\n",
    "P chuẩn đánh giá (performance)\n",
    "A giải thuật (algorithm)\n",
    "F không gian hàm số( function space)"
   ]
  },
  {
   "cell_type": "markdown",
   "metadata": {},
   "source": [
    "## 5 \n",
    "## a) máy tính chuyển 1 tấm ảnh chất lượng kém (mờ, low-resolution) lên thành ảnh rõ nét (high-resolution); "
   ]
  },
  {
   "cell_type": "raw",
   "metadata": {},
   "source": [
    "tác vụ: đầu vào là 1 tấm ảnh kém chất lượng---------> đầu ra là 1 tấm ảnh chất lượng\n",
    "dữ liệu cần chuẩn bị: cho máy tính thu thập nhiều bức ảnh để trải nghiệm, bằng cách search các hình anh trên google,trong 1 thời gian nhất định\n",
    "cách thức đánh  giá là độ trùng khớp với ảnh chuẩn và ảnh vừa khôi phục \n"
   ]
  },
  {
   "cell_type": "markdown",
   "metadata": {},
   "source": [
    "## b) máy tính xử lý ảnh chụp X-quang và dự đoán bệnh;\n"
   ]
  },
  {
   "cell_type": "raw",
   "metadata": {},
   "source": [
    "tác vụ : đầu vào là anh chụp X quang ---------> đầu ra là chuẩn đoán loại bệnh từ ảnh \n",
    "dữ liệu cần chuẩn bị : cho máy tính thu thập và trải nghiệm các loại anh chụp X quang và nhũng loại bệnh tương tự trên ảnh chụp đó, bằng cách trải nghiêm qua interner.., trong thời gian nhất định để hiểu hết được các ảnh đó\n",
    "cách thức đánh giá là phải chính xác loại bệnh của ảnh chụp X quang"
   ]
  },
  {
   "cell_type": "markdown",
   "metadata": {},
   "source": [
    "## c) máy tính đọc một email của khách hàng và tự chuyển đến thư mục tương ứng như \"cảm ơn\", \"khiếu nại\", \"hỏi thông tin\", \"xin việc\", v.v. "
   ]
  },
  {
   "cell_type": "raw",
   "metadata": {},
   "source": [
    "tác vụ : đầu vào là email của khách hàng ---------> đầu ra là trả về thư mục phù hợp \n",
    "dữ liệu cần chuẩn bị : cho máy tính tiếp nhận nhiều đoạn email của mọi người để hiểu được các nội dung trong đoạn email đó để đưa ra kết luận chính xác của đoạn email,cần thời gian nhiều để hiểu.\n",
    "chuẩn đánh giá là phải chuyển đến thư mục phù hợp với đoạn email    "
   ]
  },
  {
   "cell_type": "markdown",
   "metadata": {},
   "source": [
    "## Ý nghĩa câu phát biểu sau: Máy tính \"học'' bằng cách tìm kiếm trong không gian các hàm số (chương trình máy tính)"
   ]
  },
  {
   "cell_type": "raw",
   "metadata": {},
   "source": [
    "là tiền kiếm trong không gian hàm số vì những hàm số này chúng ta lập trình trên máy tính nên nó là không gian của hàm số trên máy tính "
   ]
  },
  {
   "cell_type": "markdown",
   "metadata": {},
   "source": [
    "## Hai vấn đề chính về không gian hàm mà ta cần đặc biệt chú ý để giúp máy tính tự tìm kiếm hàm có độ khái quát hoá cao là gì?"
   ]
  },
  {
   "cell_type": "raw",
   "metadata": {},
   "source": [
    "1 là biểu diễn ko gian hàm (representation)\n",
    "2 tìm kiếm huấn luyện(search/train)"
   ]
  },
  {
   "cell_type": "code",
   "execution_count": null,
   "metadata": {},
   "outputs": [],
   "source": []
  }
 ],
 "metadata": {
  "kernelspec": {
   "display_name": "Python 3",
   "language": "python",
   "name": "python3"
  },
  "language_info": {
   "codemirror_mode": {
    "name": "ipython",
    "version": 3
   },
   "file_extension": ".py",
   "mimetype": "text/x-python",
   "name": "python",
   "nbconvert_exporter": "python",
   "pygments_lexer": "ipython3",
   "version": "3.7.1"
  }
 },
 "nbformat": 4,
 "nbformat_minor": 2
}
